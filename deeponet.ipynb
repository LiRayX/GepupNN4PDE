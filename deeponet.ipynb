{
 "cells": [
  {
   "cell_type": "code",
   "execution_count": 1,
   "metadata": {},
   "outputs": [
    {
     "name": "stderr",
     "output_type": "stream",
     "text": [
      "2024-06-03 17:34:26.212887: I tensorflow/core/util/port.cc:113] oneDNN custom operations are on. You may see slightly different numerical results due to floating-point round-off errors from different computation orders. To turn them off, set the environment variable `TF_ENABLE_ONEDNN_OPTS=0`.\n",
      "2024-06-03 17:34:26.249674: E external/local_xla/xla/stream_executor/cuda/cuda_dnn.cc:9261] Unable to register cuDNN factory: Attempting to register factory for plugin cuDNN when one has already been registered\n",
      "2024-06-03 17:34:26.249700: E external/local_xla/xla/stream_executor/cuda/cuda_fft.cc:607] Unable to register cuFFT factory: Attempting to register factory for plugin cuFFT when one has already been registered\n",
      "2024-06-03 17:34:26.251008: E external/local_xla/xla/stream_executor/cuda/cuda_blas.cc:1515] Unable to register cuBLAS factory: Attempting to register factory for plugin cuBLAS when one has already been registered\n",
      "2024-06-03 17:34:26.257764: I tensorflow/core/platform/cpu_feature_guard.cc:182] This TensorFlow binary is optimized to use available CPU instructions in performance-critical operations.\n",
      "To enable the following instructions: AVX2 AVX512F AVX512_VNNI AVX512_BF16 FMA, in other operations, rebuild TensorFlow with the appropriate compiler flags.\n",
      "2024-06-03 17:34:27.017750: W tensorflow/compiler/tf2tensorrt/utils/py_utils.cc:38] TF-TRT Warning: Could not find TensorRT\n"
     ]
    },
    {
     "name": "stdout",
     "output_type": "stream",
     "text": [
      "[PhysicalDevice(name='/physical_device:GPU:0', device_type='GPU')]\n"
     ]
    }
   ],
   "source": [
    "import tensorflow as tf\n",
    "\n",
    "# Check if TensorFlow can access the GPU\n",
    "gpu_available = tf.config.list_physical_devices('GPU')\n",
    "\n",
    "print(gpu_available)\n"
   ]
  },
  {
   "cell_type": "code",
   "execution_count": null,
   "metadata": {},
   "outputs": [],
   "source": [
    "import sys\n",
    "import scipy.io\n",
    "import numpy as np\n",
    "import matplotlib.pyplot as plt\n",
    "from sklearn.preprocessing import StandardScaler\n",
    "\n",
    "import deepxde as dde\n",
    "from deepxde.backend import tf\n",
    "def get_data(filename, n_train, n_test, sampling_rate=10):\n",
    "    data = scipy.io.loadmat(filename)\n",
    "    x = data[\"x_coor\"][:, ::sampling_rate].astype(np.float32)\n",
    "    y = data[\"y_coor\"][:, ::sampling_rate].astype(np.float32)\n",
    "    t = data[\"t\"].astype(np.float32)\n",
    "    Vx = data[\"Vx\"][:, ::sampling_rate].astype(np.float32)\n",
    "    Vy = data[\"Vy\"][:, ::sampling_rate].astype(np.float32)\n",
    "    \n",
    "    u = np.stack((Vx, Vy), axis=-1)  # Shape: (N, k, n_points, 2)\n",
    "\n",
    "    # Branch: initial velocity field\n",
    "    branch = u[:, 0, :, :]  # Shape: (N, n_points, 2)\n",
    "\n",
    "    # Trunk: spatial coordinates grid\n",
    "    xy = np.stack((x, y), axis=-1).reshape(-1, 2)  # Shape: (n_points, 2)\n",
    "    \n",
    "    # Output: velocity field at the final time step\n",
    "    u_final = u[:, -1, :, :]  # Shape: (N, n_points, 2)\n",
    "    u_final = u_final.reshape(u_final.shape[0], -1)  # Shape: (N, n_points * 2)\n",
    "\n",
    "    # Split into training and testing data\n",
    "    branch_train = branch[:n_train] \n",
    "    xy_train = xy\n",
    "    u_final_train = u_final[:n_train]\n",
    "\n",
    "    branch_test = branch[-n_test:]\n",
    "    u_final_test = u_final[-n_test:]\n",
    "\n",
    "    return (branch_train, xy_train), u_final_train, (branch_test, xy_train), u_final_test"
   ]
  }
 ],
 "metadata": {
  "kernelspec": {
   "display_name": "deeponet",
   "language": "python",
   "name": "deeponet"
  },
  "language_info": {
   "codemirror_mode": {
    "name": "ipython",
    "version": 3
   },
   "file_extension": ".py",
   "mimetype": "text/x-python",
   "name": "python",
   "nbconvert_exporter": "python",
   "pygments_lexer": "ipython3",
   "version": "3.9.19"
  }
 },
 "nbformat": 4,
 "nbformat_minor": 2
}
